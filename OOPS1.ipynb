{
 "cells": [
  {
   "cell_type": "code",
   "execution_count": null,
   "id": "5c373e9a-a8ec-4fe2-8057-468c34dbb986",
   "metadata": {},
   "outputs": [],
   "source": [
    " Q1.\n",
    "Object is an instance or part of a given Class. It is defined then no memory is allocated in it,\n",
    "but it is created then memory is allocated.\n",
    "Class is a user defined datatype. It has the data members and the member functions in it."
   ]
  },
  {
   "cell_type": "code",
   "execution_count": 1,
   "id": "0fc0ba97-db15-40ce-91c5-3ffea8e959ab",
   "metadata": {},
   "outputs": [
    {
     "name": "stdout",
     "output_type": "stream",
     "text": [
      "Welcome to Dr. Milaan Parmar's class on Python Programming\n"
     ]
    }
   ],
   "source": [
    "# Example : Creating Class and Object in Python\n",
    "\n",
    "class Student:\n",
    "    \"\"\"This is student class with data\"\"\"    \n",
    "    def learn(self):    # A sample method\n",
    "        print(\"Welcome to Dr. Milaan Parmar's class on Python Programming\")\n",
    "\n",
    "stud = Student()        # creating object\n",
    "stud.learn()            # Calling method\n",
    "\n",
    "# Output: Welcome to Dr. Milaan Parmar's class on Python Programming"
   ]
  },
  {
   "cell_type": "code",
   "execution_count": null,
   "id": "f8d3dbc9-9bad-4ca8-94ae-8b8fbae1480c",
   "metadata": {},
   "outputs": [],
   "source": [
    "Q2.\n",
    "There are four pillars of oops in python are:\n",
    "\n",
    "Encapsulation\n",
    "Inheritance\n",
    "Polymorphism\n",
    "Abstraction\n"
   ]
  },
  {
   "cell_type": "code",
   "execution_count": null,
   "id": "f1b5fb4c-b20a-40a1-ae03-72eb33c56bc1",
   "metadata": {},
   "outputs": [],
   "source": [
    "Q3. __init__ method in Python is used to initialize objects of a class. It is also called a constructor."
   ]
  },
  {
   "cell_type": "code",
   "execution_count": null,
   "id": "0b686c51-18b2-43c9-8302-b61b8a5c7c7a",
   "metadata": {},
   "outputs": [],
   "source": [
    "# A Sample class with init method\n",
    "class Person:\n",
    "# init method or constructor\n",
    "def __init__(self, name):\n",
    "self.name = name\n",
    "# Sample Method\n",
    "def say_hi(self):\n",
    "print('Hello, my name is', self.name)\n",
    "p = Person('Nikhil')\n",
    "p.say_hi()\n"
   ]
  },
  {
   "cell_type": "code",
   "execution_count": null,
   "id": "5ec17f59-fbad-47b0-a4b8-26288924e38f",
   "metadata": {},
   "outputs": [],
   "source": [
    "Q4.\n",
    "By using the “self” keyword, we can access the attributes and methods of the class.\n",
    "It is useful in method definitions and in variable initialization. The “self” is explicitly\n",
    "used every time we define a method."
   ]
  },
  {
   "cell_type": "code",
   "execution_count": null,
   "id": "975a0115-32e6-4dc4-85b4-755a7f51af2f",
   "metadata": {},
   "outputs": [],
   "source": [
    "Q5.\n",
    "Inheritance allows us to define a class that inherits all the methods and properties from another class.\n",
    "Parent class is the class being inherited from, also called base class. Child class is the class\n",
    "that inherits from another class, also called derived class."
   ]
  },
  {
   "cell_type": "code",
   "execution_count": null,
   "id": "20dfb970-3d03-4679-b0ae-7e5ad19be246",
   "metadata": {},
   "outputs": [],
   "source": [
    "Q5.\n",
    "(i) Single inheritance- Single inheritance enables a derived class to inherit properties from a single parent class,\n",
    "thus enabling code reusability and the addition of new features to existing code.\n"
   ]
  },
  {
   "cell_type": "code",
   "execution_count": 3,
   "id": "c3a23a4d-f79d-4af2-adad-bd976759643e",
   "metadata": {},
   "outputs": [
    {
     "name": "stdout",
     "output_type": "stream",
     "text": [
      "This function is in parent class.\n",
      "This function is in child class.\n"
     ]
    }
   ],
   "source": [
    "# Python program to demonstrate\n",
    "# single inheritance example\n",
    " \n",
    "# Base class\n",
    "class Parent:\n",
    "    def func1(self):\n",
    "        print(\"This function is in parent class.\")\n",
    " \n",
    "# Derived class\n",
    " \n",
    " \n",
    "class Child(Parent):\n",
    "    def func2(self):\n",
    "        print(\"This function is in child class.\")\n",
    " \n",
    " \n",
    "# Driver's code\n",
    "object = Child()\n",
    "object.func1()\n",
    "object.func2()"
   ]
  },
  {
   "cell_type": "code",
   "execution_count": null,
   "id": "9518ddcb-1d2e-4b29-922d-b976d59fdb30",
   "metadata": {},
   "outputs": [],
   "source": [
    "(ii)\n",
    "Multiple Inheritance- When a class can be derived from more than one base class this type of inheritance\n",
    "is called multiple inheritances. In multiple inheritances, all the features of the base classes are\n",
    "inherited into the derived class. "
   ]
  },
  {
   "cell_type": "code",
   "execution_count": 4,
   "id": "dc18c3aa-2628-4956-abf7-adc0cb31d410",
   "metadata": {},
   "outputs": [
    {
     "name": "stdout",
     "output_type": "stream",
     "text": [
      "Father : RAM\n",
      "Mother : SITA\n"
     ]
    }
   ],
   "source": [
    "# Python program to demonstrate\n",
    "# multiple inheritance example\n",
    "\n",
    "# Base class1\n",
    "class Mother:\n",
    "\tmothername = \"\"\n",
    "\n",
    "\tdef mother(self):\n",
    "\t\tprint(self.mothername)\n",
    "\n",
    "# Base class2\n",
    "\n",
    "\n",
    "class Father:\n",
    "\tfathername = \"\"\n",
    "\n",
    "\tdef father(self):\n",
    "\t\tprint(self.fathername)\n",
    "\n",
    "# Derived class\n",
    "\n",
    "\n",
    "class Son(Mother, Father):\n",
    "\tdef parents(self):\n",
    "\t\tprint(\"Father :\", self.fathername)\n",
    "\t\tprint(\"Mother :\", self.mothername)\n",
    "\n",
    "\n",
    "# Driver's code\n",
    "s1 = Son()\n",
    "s1.fathername = \"RAM\"\n",
    "s1.mothername = \"SITA\"\n",
    "s1.parents()\n"
   ]
  },
  {
   "cell_type": "code",
   "execution_count": null,
   "id": "c556d233-758d-4832-acf0-c1e5abf741a4",
   "metadata": {},
   "outputs": [],
   "source": [
    "(iii)\n",
    "Multilevel Inheritance -In multilevel inheritance, features of the base class and the derived class are\n",
    "further inherited into the new derived class. This is similar to a relationship representing a child \n",
    "and a grandfather. "
   ]
  },
  {
   "cell_type": "code",
   "execution_count": 5,
   "id": "98795ebc-d6a6-4395-9d98-b4826aa8bd2e",
   "metadata": {},
   "outputs": [
    {
     "name": "stdout",
     "output_type": "stream",
     "text": [
      "Lal mani\n",
      "Grandfather name : Lal mani\n",
      "Father name : Rampal\n",
      "Son name : Prince\n"
     ]
    }
   ],
   "source": [
    "# Python program to demonstrate\n",
    "# multilevel inheritance example\n",
    "\n",
    "# Base class\n",
    "\n",
    "\n",
    "class Grandfather:\n",
    "\n",
    "\tdef __init__(self, grandfathername):\n",
    "\t\tself.grandfathername = grandfathername\n",
    "\n",
    "# Intermediate class\n",
    "\n",
    "\n",
    "class Father(Grandfather):\n",
    "\tdef __init__(self, fathername, grandfathername):\n",
    "\t\tself.fathername = fathername\n",
    "\n",
    "\t\t# invoking constructor of Grandfather class\n",
    "\t\tGrandfather.__init__(self, grandfathername)\n",
    "\n",
    "# Derived class\n",
    "\n",
    "\n",
    "class Son(Father):\n",
    "\tdef __init__(self, sonname, fathername, grandfathername):\n",
    "\t\tself.sonname = sonname\n",
    "\n",
    "\t\t# invoking constructor of Father class\n",
    "\t\tFather.__init__(self, fathername, grandfathername)\n",
    "\n",
    "\tdef print_name(self):\n",
    "\t\tprint('Grandfather name :', self.grandfathername)\n",
    "\t\tprint(\"Father name :\", self.fathername)\n",
    "\t\tprint(\"Son name :\", self.sonname)\n",
    "\n",
    "\n",
    "# Driver code\n",
    "s1 = Son('Prince', 'Rampal', 'Lal mani')\n",
    "print(s1.grandfathername)\n",
    "s1.print_name()\n"
   ]
  },
  {
   "cell_type": "code",
   "execution_count": null,
   "id": "5ed8ee7d-aaca-4b1e-a60b-cea1cdfea38e",
   "metadata": {},
   "outputs": [],
   "source": [
    "(iv)\n",
    "Hierarchical Inheritance: \n",
    "When more than one derived class are created from a single base this type of inheritance is called\n",
    "hierarchical inheritance. In this program, we have a parent (base) class and two child (derived) classes.\n",
    "\n"
   ]
  },
  {
   "cell_type": "code",
   "execution_count": 6,
   "id": "758e82c1-ede3-4fc6-9de7-978f5f851a9b",
   "metadata": {},
   "outputs": [
    {
     "name": "stdout",
     "output_type": "stream",
     "text": [
      "This function is in parent class.\n",
      "This function is in child 1.\n",
      "This function is in parent class.\n",
      "This function is in child 2.\n"
     ]
    }
   ],
   "source": [
    "# Python program to demonstrate\n",
    "# Hierarchical inheritance example\n",
    "\n",
    "\n",
    "# Base class\n",
    "class Parent:\n",
    "\tdef func1(self):\n",
    "\t\tprint(\"This function is in parent class.\")\n",
    "\n",
    "# Derived class1\n",
    "\n",
    "\n",
    "class Child1(Parent):\n",
    "\tdef func2(self):\n",
    "\t\tprint(\"This function is in child 1.\")\n",
    "\n",
    "# Derivied class2\n",
    "\n",
    "\n",
    "class Child2(Parent):\n",
    "\tdef func3(self):\n",
    "\t\tprint(\"This function is in child 2.\")\n",
    "\n",
    "\n",
    "# Driver's code\n",
    "object1 = Child1()\n",
    "object2 = Child2()\n",
    "object1.func1()\n",
    "object1.func2()\n",
    "object2.func1()\n",
    "object2.func3()\n"
   ]
  },
  {
   "cell_type": "code",
   "execution_count": null,
   "id": "11b3af9b-47b9-4aaa-ac16-ec9d60a399c1",
   "metadata": {},
   "outputs": [],
   "source": [
    "(v)\n",
    "Hybrid Inheritance: \n",
    "Inheritance consisting of multiple types of inheritance is called hybrid inheritance."
   ]
  },
  {
   "cell_type": "code",
   "execution_count": 7,
   "id": "98465280-540b-4442-8ac2-69019b634797",
   "metadata": {},
   "outputs": [
    {
     "name": "stdout",
     "output_type": "stream",
     "text": [
      "This function is in school.\n",
      "This function is in student 1. \n"
     ]
    }
   ],
   "source": [
    "# Python program to demonstrate\n",
    "# hybrid inheritance example\n",
    "\n",
    "\n",
    "class School:\n",
    "\tdef func1(self):\n",
    "\t\tprint(\"This function is in school.\")\n",
    "\n",
    "\n",
    "class Student1(School):\n",
    "\tdef func2(self):\n",
    "\t\tprint(\"This function is in student 1. \")\n",
    "\n",
    "\n",
    "class Student2(School):\n",
    "\tdef func3(self):\n",
    "\t\tprint(\"This function is in student 2.\")\n",
    "\n",
    "\n",
    "class Student3(Student1, School):\n",
    "\tdef func4(self):\n",
    "\t\tprint(\"This function is in student 3.\")\n",
    "\n",
    "\n",
    "# Driver's code\n",
    "object = Student3()\n",
    "object.func1()\n",
    "object.func2()\n"
   ]
  },
  {
   "cell_type": "code",
   "execution_count": null,
   "id": "6d487abd-db50-4669-ab17-95ad711076c3",
   "metadata": {},
   "outputs": [],
   "source": []
  }
 ],
 "metadata": {
  "kernelspec": {
   "display_name": "Python 3 (ipykernel)",
   "language": "python",
   "name": "python3"
  },
  "language_info": {
   "codemirror_mode": {
    "name": "ipython",
    "version": 3
   },
   "file_extension": ".py",
   "mimetype": "text/x-python",
   "name": "python",
   "nbconvert_exporter": "python",
   "pygments_lexer": "ipython3",
   "version": "3.10.8"
  }
 },
 "nbformat": 4,
 "nbformat_minor": 5
}
